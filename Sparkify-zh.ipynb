{
 "cells": [
  {
   "cell_type": "markdown",
   "metadata": {},
   "source": [
    "# Sparkify 项目 Workspace\n",
    "这个 Workspace 包括一个迷你的子数据集（128MB），是完整数据集（12GB）的一个子集。在将你的项目部署到云上之前，你可以自由使用 Workspace 来创建你的项目或用Spark来探索这个较小数据集。设置 Spark 集群的指南可以在选修 Spark 课程的内容里找到。\n",
    "\n",
    "你可以依照下面的步骤进行项目的数据分析和模型搭建部分。"
   ]
  },
  {
   "cell_type": "code",
   "execution_count": 3,
   "metadata": {},
   "outputs": [],
   "source": [
    "# import libraries\n",
    "from pyspark.sql import SparkSession\n",
    "from pyspark.sql.functions import count,avg\n",
    "from pyspark.ml.feature import StandardScaler\n",
    "import seaborn as sns"
   ]
  },
  {
   "cell_type": "code",
   "execution_count": 4,
   "metadata": {},
   "outputs": [],
   "source": [
    "# create a Spark session\n",
    "spark = SparkSession.builder \\\n",
    "    .master(\"local\") \\\n",
    "    .appName(\"DHSpark\") \\\n",
    "    .getOrCreate()"
   ]
  },
  {
   "cell_type": "markdown",
   "metadata": {},
   "source": [
    "# 加载和清洗数据\n",
    "在这个 Workspace 中，小数据集的名称是 `mini_sparkify_event_data.json`.加载和清洗数据集，检查是否有无效或缺失数据——例如，没有userid或sessionid的数据。 "
   ]
  },
  {
   "cell_type": "code",
   "execution_count": 5,
   "metadata": {},
   "outputs": [
    {
     "data": {
      "text/plain": [
       "[('artist', 'string'),\n",
       " ('auth', 'string'),\n",
       " ('firstName', 'string'),\n",
       " ('gender', 'string'),\n",
       " ('itemInSession', 'bigint'),\n",
       " ('lastName', 'string'),\n",
       " ('length', 'double'),\n",
       " ('level', 'string'),\n",
       " ('location', 'string'),\n",
       " ('method', 'string'),\n",
       " ('page', 'string'),\n",
       " ('registration', 'bigint'),\n",
       " ('sessionId', 'bigint'),\n",
       " ('song', 'string'),\n",
       " ('status', 'bigint'),\n",
       " ('ts', 'bigint'),\n",
       " ('userAgent', 'string'),\n",
       " ('userId', 'string')]"
      ]
     },
     "execution_count": 5,
     "metadata": {},
     "output_type": "execute_result"
    }
   ],
   "source": [
    "df = spark.read.json('mini_sparkify_event_data.json')\n",
    "df.dtypes"
   ]
  },
  {
   "cell_type": "code",
   "execution_count": 6,
   "metadata": {},
   "outputs": [
    {
     "name": "stdout",
     "output_type": "stream",
     "text": [
      "root\n",
      " |-- artist: string (nullable = true)\n",
      " |-- auth: string (nullable = true)\n",
      " |-- firstName: string (nullable = true)\n",
      " |-- gender: string (nullable = true)\n",
      " |-- itemInSession: long (nullable = true)\n",
      " |-- lastName: string (nullable = true)\n",
      " |-- length: double (nullable = true)\n",
      " |-- level: string (nullable = true)\n",
      " |-- location: string (nullable = true)\n",
      " |-- method: string (nullable = true)\n",
      " |-- page: string (nullable = true)\n",
      " |-- registration: long (nullable = true)\n",
      " |-- sessionId: long (nullable = true)\n",
      " |-- song: string (nullable = true)\n",
      " |-- status: long (nullable = true)\n",
      " |-- ts: long (nullable = true)\n",
      " |-- userAgent: string (nullable = true)\n",
      " |-- userId: string (nullable = true)\n",
      "\n"
     ]
    }
   ],
   "source": [
    "df.printSchema()"
   ]
  },
  {
   "cell_type": "code",
   "execution_count": 7,
   "metadata": {},
   "outputs": [
    {
     "data": {
      "text/plain": [
       "[Row(artist='Martha Tilston', auth='Logged In', firstName='Colin', gender='M', itemInSession=50, lastName='Freeman', length=277.89016, level='paid', location='Bakersfield, CA', method='PUT', page='NextSong', registration=1538173362000, sessionId=29, song='Rockpools', status=200, ts=1538352117000, userAgent='Mozilla/5.0 (Windows NT 6.1; WOW64; rv:31.0) Gecko/20100101 Firefox/31.0', userId='30')]"
      ]
     },
     "execution_count": 7,
     "metadata": {},
     "output_type": "execute_result"
    }
   ],
   "source": [
    "df.take(1)"
   ]
  },
  {
   "cell_type": "code",
   "execution_count": 8,
   "metadata": {},
   "outputs": [
    {
     "name": "stdout",
     "output_type": "stream",
     "text": [
      "+--------------------+------+\n",
      "|                page| count|\n",
      "+--------------------+------+\n",
      "|              Cancel|    52|\n",
      "|    Submit Downgrade|    63|\n",
      "|         Thumbs Down|  2546|\n",
      "|                Home| 14457|\n",
      "|           Downgrade|  2055|\n",
      "|         Roll Advert|  3933|\n",
      "|              Logout|  3226|\n",
      "|       Save Settings|   310|\n",
      "|Cancellation Conf...|    52|\n",
      "|               About|   924|\n",
      "| Submit Registration|     5|\n",
      "|            Settings|  1514|\n",
      "|               Login|  3241|\n",
      "|            Register|    18|\n",
      "|     Add to Playlist|  6526|\n",
      "|          Add Friend|  4277|\n",
      "|            NextSong|228108|\n",
      "|           Thumbs Up| 12551|\n",
      "|                Help|  1726|\n",
      "|             Upgrade|   499|\n",
      "+--------------------+------+\n",
      "only showing top 20 rows\n",
      "\n"
     ]
    }
   ],
   "source": [
    "##查看page中有多少种\n",
    "df.groupBy('page').count().show()"
   ]
  },
  {
   "cell_type": "code",
   "execution_count": 9,
   "metadata": {},
   "outputs": [
    {
     "name": "stdout",
     "output_type": "stream",
     "text": [
      "+----------+------+\n",
      "|      auth| count|\n",
      "+----------+------+\n",
      "|Logged Out|  8249|\n",
      "| Cancelled|    52|\n",
      "|     Guest|    97|\n",
      "| Logged In|278102|\n",
      "+----------+------+\n",
      "\n"
     ]
    }
   ],
   "source": [
    "##查看auth中有多少种\n",
    "df.groupBy('auth').count().show(100)"
   ]
  },
  {
   "cell_type": "code",
   "execution_count": 10,
   "metadata": {},
   "outputs": [
    {
     "name": "stdout",
     "output_type": "stream",
     "text": [
      "+-----+------+\n",
      "|level| count|\n",
      "+-----+------+\n",
      "| free| 58338|\n",
      "| paid|228162|\n",
      "+-----+------+\n",
      "\n"
     ]
    }
   ],
   "source": [
    "##查看level中有多少种\n",
    "df.groupBy('level').count().show(100)"
   ]
  },
  {
   "cell_type": "code",
   "execution_count": 11,
   "metadata": {},
   "outputs": [
    {
     "name": "stdout",
     "output_type": "stream",
     "text": [
      "+------+------+\n",
      "|status| count|\n",
      "+------+------+\n",
      "|   307| 26430|\n",
      "|   404|   258|\n",
      "|   200|259812|\n",
      "+------+------+\n",
      "\n"
     ]
    }
   ],
   "source": [
    "##查看status中有多少种\n",
    "df.groupBy('status').count().show(100)"
   ]
  },
  {
   "cell_type": "code",
   "execution_count": 12,
   "metadata": {},
   "outputs": [
    {
     "data": {
      "text/plain": [
       "286500"
      ]
     },
     "execution_count": 12,
     "metadata": {},
     "output_type": "execute_result"
    }
   ],
   "source": [
    "##用户总数\n",
    "df.count()"
   ]
  },
  {
   "cell_type": "code",
   "execution_count": 13,
   "metadata": {},
   "outputs": [
    {
     "data": {
      "text/plain": [
       "8346"
      ]
     },
     "execution_count": 13,
     "metadata": {},
     "output_type": "execute_result"
    }
   ],
   "source": [
    "##没有userid的项\n",
    "df.filter(df['userID'] == '').count()"
   ]
  },
  {
   "cell_type": "code",
   "execution_count": 14,
   "metadata": {},
   "outputs": [
    {
     "data": {
      "text/plain": [
       "0"
      ]
     },
     "execution_count": 14,
     "metadata": {},
     "output_type": "execute_result"
    }
   ],
   "source": [
    "##没有sessionid的项\n",
    "df.filter(df['sessionID'] == '').count()"
   ]
  },
  {
   "cell_type": "code",
   "execution_count": 15,
   "metadata": {},
   "outputs": [
    {
     "data": {
      "text/plain": [
       "DataFrame[artist: string, auth: string, firstName: string, gender: string, itemInSession: bigint, lastName: string, length: double, level: string, location: string, method: string, page: string, registration: bigint, sessionId: bigint, song: string, status: bigint, ts: bigint, userAgent: string, userId: string]"
      ]
     },
     "execution_count": 15,
     "metadata": {},
     "output_type": "execute_result"
    }
   ],
   "source": [
    "## 去除userId和sessionId为空的行\n",
    "df_clean = df.dropna(how = 'any', subset = ['userId', 'sessionId'])\n",
    "df_clean = df.filter(df[\"userId\"] != \"\")\n",
    "df_clean.persist()"
   ]
  },
  {
   "cell_type": "code",
   "execution_count": 16,
   "metadata": {},
   "outputs": [
    {
     "name": "stdout",
     "output_type": "stream",
     "text": [
      "root\n",
      " |-- artist: string (nullable = true)\n",
      " |-- auth: string (nullable = true)\n",
      " |-- firstName: string (nullable = true)\n",
      " |-- gender: string (nullable = true)\n",
      " |-- itemInSession: long (nullable = true)\n",
      " |-- lastName: string (nullable = true)\n",
      " |-- length: double (nullable = true)\n",
      " |-- level: string (nullable = true)\n",
      " |-- location: string (nullable = true)\n",
      " |-- method: string (nullable = true)\n",
      " |-- page: string (nullable = true)\n",
      " |-- registration: long (nullable = true)\n",
      " |-- sessionId: long (nullable = true)\n",
      " |-- song: string (nullable = true)\n",
      " |-- status: long (nullable = true)\n",
      " |-- ts: long (nullable = true)\n",
      " |-- userAgent: string (nullable = true)\n",
      " |-- userId: string (nullable = true)\n",
      "\n"
     ]
    }
   ],
   "source": [
    "df_clean.printSchema()"
   ]
  },
  {
   "cell_type": "markdown",
   "metadata": {},
   "source": [
    "# 探索性数据分析\n",
    "当你使用完整数据集时，通过加载小数据集，在 Spark 中完成基础操作来实现探索性数据分析。在这个 Workspace 中，我们已经提供给你一个你可以探索的小数据集。\n",
    "\n",
    "### 定义客户流失\n",
    "\n",
    "在你完成初步分析之后，创建一列 `Churn` 作为模型的标签。我建议你使用 `Cancellation Confirmation` 事件来定义客户流失，该事件在付费或免费客户身上都有发生。作为一个奖励任务，你也可以深入了解 `Downgrade` 事件。\n",
    "\n",
    "### 探索数据\n",
    "你定义好客户流失后，就可以执行一些探索性数据分析，观察留存用户和流失用户的行为。你可以首先把这两类用户的数据聚合到一起，观察固定时间内某个特定动作出现的次数或者播放音乐的数量。"
   ]
  },
  {
   "cell_type": "markdown",
   "metadata": {},
   "source": [
    "#### 增加新列churn"
   ]
  },
  {
   "cell_type": "code",
   "execution_count": 17,
   "metadata": {},
   "outputs": [],
   "source": [
    "df_cancelled_ids = df_clean.filter(df['page'] == 'Cancellation Confirmation').select('userId').drop_duplicates()\n",
    "cancelled_ids = [x[\"userId\"] for x in df_cancelled_ids.collect()]\n",
    "df_clean = df_clean.withColumn('churn', df_clean.userId.isin(cancelled_ids))"
   ]
  },
  {
   "cell_type": "code",
   "execution_count": 18,
   "metadata": {},
   "outputs": [
    {
     "name": "stdout",
     "output_type": "stream",
     "text": [
      "root\n",
      " |-- artist: string (nullable = true)\n",
      " |-- auth: string (nullable = true)\n",
      " |-- firstName: string (nullable = true)\n",
      " |-- gender: string (nullable = true)\n",
      " |-- itemInSession: long (nullable = true)\n",
      " |-- lastName: string (nullable = true)\n",
      " |-- length: double (nullable = true)\n",
      " |-- level: string (nullable = true)\n",
      " |-- location: string (nullable = true)\n",
      " |-- method: string (nullable = true)\n",
      " |-- page: string (nullable = true)\n",
      " |-- registration: long (nullable = true)\n",
      " |-- sessionId: long (nullable = true)\n",
      " |-- song: string (nullable = true)\n",
      " |-- status: long (nullable = true)\n",
      " |-- ts: long (nullable = true)\n",
      " |-- userAgent: string (nullable = true)\n",
      " |-- userId: string (nullable = true)\n",
      " |-- churn: boolean (nullable = true)\n",
      "\n"
     ]
    }
   ],
   "source": [
    "df_clean.printSchema()"
   ]
  },
  {
   "cell_type": "markdown",
   "metadata": {},
   "source": [
    "### 转化为pandas"
   ]
  },
  {
   "cell_type": "code",
   "execution_count": 19,
   "metadata": {},
   "outputs": [],
   "source": [
    "dcp = df_clean.toPandas()"
   ]
  },
  {
   "cell_type": "markdown",
   "metadata": {},
   "source": [
    "#### 一共有多少用户"
   ]
  },
  {
   "cell_type": "code",
   "execution_count": 20,
   "metadata": {},
   "outputs": [
    {
     "data": {
      "text/plain": [
       "225"
      ]
     },
     "execution_count": 20,
     "metadata": {},
     "output_type": "execute_result"
    }
   ],
   "source": [
    "dcp['userId'].drop_duplicates().count()"
   ]
  },
  {
   "cell_type": "code",
   "execution_count": 21,
   "metadata": {},
   "outputs": [
    {
     "data": {
      "text/plain": [
       "churn\n",
       "False    233290\n",
       "True      44864\n",
       "Name: userId, dtype: int64"
      ]
     },
     "execution_count": 21,
     "metadata": {},
     "output_type": "execute_result"
    }
   ],
   "source": [
    "dcp.groupby('churn')['userId'].count()\n",
    "## 数据分布并不平均"
   ]
  },
  {
   "cell_type": "markdown",
   "metadata": {},
   "source": [
    "### 性别对客户流失的影响"
   ]
  },
  {
   "cell_type": "code",
   "execution_count": 22,
   "metadata": {},
   "outputs": [
    {
     "data": {
      "text/plain": [
       "gender  churn\n",
       "F       False    135410\n",
       "        True      19168\n",
       "M       False     97880\n",
       "        True      25696\n",
       "Name: churn, dtype: int64"
      ]
     },
     "execution_count": 22,
     "metadata": {},
     "output_type": "execute_result"
    }
   ],
   "source": [
    "dcp.groupby(['gender','churn'])['churn'].count()"
   ]
  },
  {
   "cell_type": "markdown",
   "metadata": {},
   "source": [
    "#### 可见性别对流失有一定影响"
   ]
  },
  {
   "cell_type": "markdown",
   "metadata": {},
   "source": [
    "### itemInSession对客户流失的影响"
   ]
  },
  {
   "cell_type": "code",
   "execution_count": 23,
   "metadata": {},
   "outputs": [
    {
     "name": "stdout",
     "output_type": "stream",
     "text": [
      "+-----+------------------+\n",
      "|churn|avg(itemInSession)|\n",
      "+-----+------------------+\n",
      "| true|109.23299304564907|\n",
      "|false| 115.9888465000643|\n",
      "+-----+------------------+\n",
      "\n"
     ]
    }
   ],
   "source": [
    "df_clean.groupBy('churn').avg('itemInSession').show()"
   ]
  },
  {
   "cell_type": "markdown",
   "metadata": {},
   "source": [
    "### level对客户流失的影响"
   ]
  },
  {
   "cell_type": "code",
   "execution_count": 24,
   "metadata": {},
   "outputs": [
    {
     "data": {
      "text/plain": [
       "<matplotlib.axes._subplots.AxesSubplot at 0x7fbc3d52fa50>"
      ]
     },
     "execution_count": 24,
     "metadata": {},
     "output_type": "execute_result"
    },
    {
     "data": {
      "image/png": "[encoded data removed]",
      "text/plain": [
       "<Figure size 432x288 with 1 Axes>"
      ]
     },
     "metadata": {
      "needs_background": "light"
     },
     "output_type": "display_data"
    }
   ],
   "source": [
    "df_level = df_clean.dropDuplicates([\"userId\", \"level\"]).groupby(\"churn\", \"level\").count().toPandas()\n",
    "sns.barplot(x='churn', y='count', hue='level', data=df_level)"
   ]
  },
  {
   "cell_type": "markdown",
   "metadata": {},
   "source": [
    "### 各种Page对客户流失的影响，忽略NextSong,Cancel,About,Settings"
   ]
  },
  {
   "cell_type": "code",
   "execution_count": 25,
   "metadata": {},
   "outputs": [
    {
     "name": "stdout",
     "output_type": "stream",
     "text": [
      "+-----+--------------------+-----+\n",
      "|churn|                page|count|\n",
      "+-----+--------------------+-----+\n",
      "|false|       Save Settings|  252|\n",
      "| true|              Logout|  553|\n",
      "|false|    Submit Downgrade|   54|\n",
      "| true|       Save Settings|   58|\n",
      "| true|         Roll Advert|  967|\n",
      "|false|          Add Friend| 3641|\n",
      "|false|               Error|  220|\n",
      "|false|     Add to Playlist| 5488|\n",
      "| true|      Submit Upgrade|   32|\n",
      "|false|           Thumbs Up|10692|\n",
      "| true|Cancellation Conf...|   52|\n",
      "| true|     Add to Playlist| 1038|\n",
      "| true|                Home| 1672|\n",
      "| true|             Upgrade|  112|\n",
      "|false|         Thumbs Down| 2050|\n",
      "| true|    Submit Downgrade|    9|\n",
      "| true|                Help|  239|\n",
      "| true|          Add Friend|  636|\n",
      "|false|                Help| 1215|\n",
      "|false|         Roll Advert| 2966|\n",
      "| true|           Downgrade|  337|\n",
      "|false|              Logout| 2673|\n",
      "|false|                Home| 8410|\n",
      "| true|         Thumbs Down|  496|\n",
      "| true|           Thumbs Up| 1859|\n",
      "|false|             Upgrade|  387|\n",
      "|false|           Downgrade| 1718|\n",
      "|false|      Submit Upgrade|  127|\n",
      "| true|               Error|   32|\n",
      "+-----+--------------------+-----+\n",
      "\n"
     ]
    }
   ],
   "source": [
    "df_page=df_clean.select(\"churn\", \"page\").where(\"page!='NextSong' and page!='Cancel'and page!='About'and page!='Settings'\").groupby('churn', 'page').count()\n",
    "df_page.show(100)"
   ]
  },
  {
   "cell_type": "code",
   "execution_count": 26,
   "metadata": {},
   "outputs": [
    {
     "data": {
      "text/plain": [
       "<matplotlib.axes._subplots.AxesSubplot at 0x7fbc3d6a1790>"
      ]
     },
     "execution_count": 26,
     "metadata": {},
     "output_type": "execute_result"
    },
    {
     "data": {
      "image/png": "[encoded data removed]",
      "text/plain": [
       "<Figure size 432x288 with 1 Axes>"
      ]
     },
     "metadata": {
      "needs_background": "light"
     },
     "output_type": "display_data"
    }
   ],
   "source": [
    "sns.barplot(x='count', y='page', hue='churn', orient='', data=df_page.toPandas())"
   ]
  },
  {
   "cell_type": "markdown",
   "metadata": {},
   "source": [
    "# 特征工程\n",
    "熟悉了数据之后，就可以构建你认为会对训练模型帮助最大的特征。要处理完整数据集，你可以按照下述步骤：\n",
    "- 写一个脚本来从小数据集中提取你需要的特征\n",
    "- 确保你的脚本可以拓展到大数据集上，使用之前教过的最佳实践原则\n",
    "- 在完整数据集上运行你的脚本，按运行情况调试代码\n",
    "\n",
    "如果是在教室的 workspace，你可以直接用里面提供的小数据集来提取特征。确保当你开始使用 Spark 集群的时候，把上述的成果迁移到大数据集上。"
   ]
  },
  {
   "cell_type": "markdown",
   "metadata": {},
   "source": [
    "### 经观察，选出：性别，itemInSession，是否免费，点赞，踩，添加好友数，添加播放列表数，降级数这几个特征"
   ]
  },
  {
   "cell_type": "markdown",
   "metadata": {},
   "source": [
    "#### 性别"
   ]
  },
  {
   "cell_type": "code",
   "execution_count": 27,
   "metadata": {},
   "outputs": [],
   "source": [
    "df_gender = df_clean.select(['userId', 'gender']).dropDuplicates(['userId']).sort('userId')\n",
    "df_gender = df_gender.replace(['M', 'F'], ['1', '0'], 'gender')"
   ]
  },
  {
   "cell_type": "markdown",
   "metadata": {},
   "source": [
    "#### itemInSession "
   ]
  },
  {
   "cell_type": "code",
   "execution_count": 28,
   "metadata": {},
   "outputs": [
    {
     "name": "stdout",
     "output_type": "stream",
     "text": [
      "+------+------------------+\n",
      "|userId|     itemInSession|\n",
      "+------+------------------+\n",
      "|    10|146.23899371069183|\n",
      "|   100| 89.31487243310517|\n",
      "|100001|28.513368983957218|\n",
      "|100002|  83.4770642201835|\n",
      "|100003| 40.65384615384615|\n",
      "+------+------------------+\n",
      "only showing top 5 rows\n",
      "\n"
     ]
    }
   ],
   "source": [
    "df_item = df_clean.groupby('userId').agg(avg(df_clean.itemInSession).alias('itemInSession')).sort('userId')\n",
    "df_item.show(5)"
   ]
  },
  {
   "cell_type": "markdown",
   "metadata": {},
   "source": [
    "#### 是否免费用户"
   ]
  },
  {
   "cell_type": "code",
   "execution_count": 29,
   "metadata": {},
   "outputs": [
    {
     "name": "stdout",
     "output_type": "stream",
     "text": [
      "+------+-----+\n",
      "|userId|level|\n",
      "+------+-----+\n",
      "|    10|    1|\n",
      "|   100|    1|\n",
      "|100001|    0|\n",
      "|100002|    1|\n",
      "|100003|    0|\n",
      "+------+-----+\n",
      "only showing top 5 rows\n",
      "\n"
     ]
    }
   ],
   "source": [
    "df_level = df_clean.select(['userId', 'level']).dropDuplicates(['userId']).sort('userId')\n",
    "df_level = df_level.replace(['paid', 'free'], ['1', '0'], 'level')\n",
    "df_level.show(5)"
   ]
  },
  {
   "cell_type": "markdown",
   "metadata": {},
   "source": [
    "#### 点赞"
   ]
  },
  {
   "cell_type": "code",
   "execution_count": 30,
   "metadata": {},
   "outputs": [
    {
     "name": "stdout",
     "output_type": "stream",
     "text": [
      "+------+---------+\n",
      "|userId|thumbsUps|\n",
      "+------+---------+\n",
      "|    10|       37|\n",
      "|   100|      148|\n",
      "|100001|        8|\n",
      "|100002|        5|\n",
      "|100003|        3|\n",
      "+------+---------+\n",
      "only showing top 5 rows\n",
      "\n"
     ]
    }
   ],
   "source": [
    "df_up = df_clean.filter(df_clean.page == 'Thumbs Up').groupby('userId').agg(count(df_clean.page).alias('thumbsUps')).sort('userId')\n",
    "df_up.show(5)"
   ]
  },
  {
   "cell_type": "markdown",
   "metadata": {},
   "source": [
    "#### 踩"
   ]
  },
  {
   "cell_type": "code",
   "execution_count": 31,
   "metadata": {},
   "outputs": [
    {
     "name": "stdout",
     "output_type": "stream",
     "text": [
      "+------+-----------+\n",
      "|userId|thumbsDowns|\n",
      "+------+-----------+\n",
      "|    10|          4|\n",
      "|   100|         27|\n",
      "|100001|          2|\n",
      "|100004|         11|\n",
      "|100005|          3|\n",
      "+------+-----------+\n",
      "only showing top 5 rows\n",
      "\n"
     ]
    }
   ],
   "source": [
    "df_down = df_clean.filter(df_clean.page == 'Thumbs Down').groupby('userId').agg(count(df_clean.page).alias('thumbsDowns')).sort('userId')\n",
    "df_down.show(5)"
   ]
  },
  {
   "cell_type": "markdown",
   "metadata": {},
   "source": [
    "#### 添加好友数"
   ]
  },
  {
   "cell_type": "code",
   "execution_count": 32,
   "metadata": {},
   "outputs": [
    {
     "name": "stdout",
     "output_type": "stream",
     "text": [
      "+------+-------+\n",
      "|userId|friends|\n",
      "+------+-------+\n",
      "|    10|     12|\n",
      "|   100|     49|\n",
      "|100001|      2|\n",
      "|100002|      1|\n",
      "|100004|     19|\n",
      "+------+-------+\n",
      "only showing top 5 rows\n",
      "\n"
     ]
    }
   ],
   "source": [
    "df_frn = df_clean.filter(df_clean.page == 'Add Friend').groupby('userId').agg(count(df_clean.page).alias('friends')).sort('userId')\n",
    "df_frn.show(5)"
   ]
  },
  {
   "cell_type": "markdown",
   "metadata": {},
   "source": [
    "#### 添加播放列表数"
   ]
  },
  {
   "cell_type": "code",
   "execution_count": 33,
   "metadata": {},
   "outputs": [
    {
     "name": "stdout",
     "output_type": "stream",
     "text": [
      "+------+--------+\n",
      "|userId|playlist|\n",
      "+------+--------+\n",
      "|    10|       9|\n",
      "|   100|      61|\n",
      "|100001|       3|\n",
      "|100002|       5|\n",
      "|100003|       2|\n",
      "+------+--------+\n",
      "only showing top 5 rows\n",
      "\n"
     ]
    }
   ],
   "source": [
    "df_pl = df_clean.filter(df_clean.page == 'Add to Playlist').groupby('userId').agg(count(df_clean.page).alias('playlist')).sort('userId')\n",
    "df_pl.show(5)"
   ]
  },
  {
   "cell_type": "markdown",
   "metadata": {},
   "source": [
    "#### 降级数"
   ]
  },
  {
   "cell_type": "code",
   "execution_count": 34,
   "metadata": {},
   "outputs": [
    {
     "name": "stdout",
     "output_type": "stream",
     "text": [
      "+------+---------+\n",
      "|userId|downgrade|\n",
      "+------+---------+\n",
      "|    10|        7|\n",
      "|   100|       30|\n",
      "|100002|        2|\n",
      "|100004|       10|\n",
      "|100007|        7|\n",
      "+------+---------+\n",
      "only showing top 5 rows\n",
      "\n"
     ]
    }
   ],
   "source": [
    "df_dg = df_clean.filter(df_clean.page == 'Downgrade').groupby('userId').agg(count(df_clean.page).alias('downgrade')).sort('userId')\n",
    "df_dg.show(5)"
   ]
  },
  {
   "cell_type": "markdown",
   "metadata": {},
   "source": [
    "#### 合为一个DATAFRAME"
   ]
  },
  {
   "cell_type": "code",
   "execution_count": 35,
   "metadata": {},
   "outputs": [],
   "source": [
    "features = df_clean.select(['userId', 'churn']).dropDuplicates(['userId']).sort('userId')\n",
    "for f in [df_gender,df_item, df_level, df_up, df_down, df_frn, df_pl, df_dg]:\n",
    "    features = features.join(f, 'userId')"
   ]
  },
  {
   "cell_type": "code",
   "execution_count": 36,
   "metadata": {},
   "outputs": [
    {
     "name": "stdout",
     "output_type": "stream",
     "text": [
      "root\n",
      " |-- userId: string (nullable = true)\n",
      " |-- churn: boolean (nullable = true)\n",
      " |-- gender: string (nullable = true)\n",
      " |-- itemInSession: double (nullable = true)\n",
      " |-- level: string (nullable = true)\n",
      " |-- thumbsUps: long (nullable = false)\n",
      " |-- thumbsDowns: long (nullable = false)\n",
      " |-- friends: long (nullable = false)\n",
      " |-- playlist: long (nullable = false)\n",
      " |-- downgrade: long (nullable = false)\n",
      "\n"
     ]
    }
   ],
   "source": [
    "features.printSchema()"
   ]
  },
  {
   "cell_type": "code",
   "execution_count": 37,
   "metadata": {},
   "outputs": [
    {
     "data": {
      "text/plain": [
       "[('userId', 'string'),\n",
       " ('churn', 'boolean'),\n",
       " ('gender', 'string'),\n",
       " ('itemInSession', 'double'),\n",
       " ('level', 'string'),\n",
       " ('thumbsUps', 'bigint'),\n",
       " ('thumbsDowns', 'bigint'),\n",
       " ('friends', 'bigint'),\n",
       " ('playlist', 'bigint'),\n",
       " ('downgrade', 'bigint')]"
      ]
     },
     "execution_count": 37,
     "metadata": {},
     "output_type": "execute_result"
    }
   ],
   "source": [
    "features.dtypes"
   ]
  },
  {
   "cell_type": "markdown",
   "metadata": {},
   "source": [
    "#### 由于执行速度太慢，故降维，去掉itemInSession"
   ]
  },
  {
   "cell_type": "code",
   "execution_count": 38,
   "metadata": {},
   "outputs": [
    {
     "data": {
      "text/html": [
       "<div>\n",
       "<style scoped>\n",
       "    .dataframe tbody tr th:only-of-type {\n",
       "        vertical-align: middle;\n",
       "    }\n",
       "\n",
       "    .dataframe tbody tr th {\n",
       "        vertical-align: top;\n",
       "    }\n",
       "\n",
       "    .dataframe thead th {\n",
       "        text-align: right;\n",
       "    }\n",
       "</style>\n",
       "<table border=\"1\" class=\"dataframe\">\n",
       "  <thead>\n",
       "    <tr style=\"text-align: right;\">\n",
       "      <th></th>\n",
       "      <th>thumbsUps</th>\n",
       "      <th>thumbsDowns</th>\n",
       "      <th>friends</th>\n",
       "      <th>playlist</th>\n",
       "      <th>downgrade</th>\n",
       "    </tr>\n",
       "  </thead>\n",
       "  <tbody>\n",
       "    <tr>\n",
       "      <th>count</th>\n",
       "      <td>152.000000</td>\n",
       "      <td>152.000000</td>\n",
       "      <td>152.000000</td>\n",
       "      <td>152.000000</td>\n",
       "      <td>152.000000</td>\n",
       "    </tr>\n",
       "    <tr>\n",
       "      <th>mean</th>\n",
       "      <td>77.500000</td>\n",
       "      <td>15.368421</td>\n",
       "      <td>26.217105</td>\n",
       "      <td>40.486842</td>\n",
       "      <td>13.493421</td>\n",
       "    </tr>\n",
       "    <tr>\n",
       "      <th>std</th>\n",
       "      <td>69.418397</td>\n",
       "      <td>13.835210</td>\n",
       "      <td>21.409572</td>\n",
       "      <td>34.148485</td>\n",
       "      <td>12.051213</td>\n",
       "    </tr>\n",
       "    <tr>\n",
       "      <th>min</th>\n",
       "      <td>5.000000</td>\n",
       "      <td>1.000000</td>\n",
       "      <td>1.000000</td>\n",
       "      <td>3.000000</td>\n",
       "      <td>1.000000</td>\n",
       "    </tr>\n",
       "    <tr>\n",
       "      <th>25%</th>\n",
       "      <td>31.500000</td>\n",
       "      <td>6.000000</td>\n",
       "      <td>13.000000</td>\n",
       "      <td>15.750000</td>\n",
       "      <td>5.000000</td>\n",
       "    </tr>\n",
       "    <tr>\n",
       "      <th>50%</th>\n",
       "      <td>56.500000</td>\n",
       "      <td>12.000000</td>\n",
       "      <td>22.000000</td>\n",
       "      <td>33.000000</td>\n",
       "      <td>10.000000</td>\n",
       "    </tr>\n",
       "    <tr>\n",
       "      <th>75%</th>\n",
       "      <td>95.000000</td>\n",
       "      <td>21.000000</td>\n",
       "      <td>32.000000</td>\n",
       "      <td>54.750000</td>\n",
       "      <td>18.250000</td>\n",
       "    </tr>\n",
       "    <tr>\n",
       "      <th>max</th>\n",
       "      <td>437.000000</td>\n",
       "      <td>75.000000</td>\n",
       "      <td>143.000000</td>\n",
       "      <td>240.000000</td>\n",
       "      <td>73.000000</td>\n",
       "    </tr>\n",
       "  </tbody>\n",
       "</table>\n",
       "</div>"
      ],
      "text/plain": [
       "        thumbsUps  thumbsDowns     friends    playlist   downgrade\n",
       "count  152.000000   152.000000  152.000000  152.000000  152.000000\n",
       "mean    77.500000    15.368421   26.217105   40.486842   13.493421\n",
       "std     69.418397    13.835210   21.409572   34.148485   12.051213\n",
       "min      5.000000     1.000000    1.000000    3.000000    1.000000\n",
       "25%     31.500000     6.000000   13.000000   15.750000    5.000000\n",
       "50%     56.500000    12.000000   22.000000   33.000000   10.000000\n",
       "75%     95.000000    21.000000   32.000000   54.750000   18.250000\n",
       "max    437.000000    75.000000  143.000000  240.000000   73.000000"
      ]
     },
     "execution_count": 38,
     "metadata": {},
     "output_type": "execute_result"
    }
   ],
   "source": [
    "features = features.drop('itemInSession')\n",
    "features.toPandas().describe()"
   ]
  },
  {
   "cell_type": "code",
   "execution_count": 39,
   "metadata": {},
   "outputs": [
    {
     "name": "stdout",
     "output_type": "stream",
     "text": [
      "+------+-----+------+-----+---------+-----------+-------+--------+---------+\n",
      "|userId|churn|gender|level|thumbsUps|thumbsDowns|friends|playlist|downgrade|\n",
      "+------+-----+------+-----+---------+-----------+-------+--------+---------+\n",
      "|200002|false|     1|    0|       21|          6|      4|       8|        5|\n",
      "+------+-----+------+-----+---------+-----------+-------+--------+---------+\n",
      "only showing top 1 row\n",
      "\n"
     ]
    }
   ],
   "source": [
    "features.show(1)"
   ]
  },
  {
   "cell_type": "markdown",
   "metadata": {},
   "source": [
    "# 建模\n",
    "将完整数据集分成训练集、测试集和验证集。测试几种你学过的机器学习方法。评价不同机器学习方法的准确率，根据情况调节参数。根据准确率你挑选出表现最好的那个模型，然后报告在训练集上的结果。因为流失顾客数据集很小，我建议选用 F1 score 作为优化指标。"
   ]
  },
  {
   "cell_type": "code",
   "execution_count": 40,
   "metadata": {},
   "outputs": [],
   "source": [
    "features = features.drop(\"userId\")"
   ]
  },
  {
   "cell_type": "code",
   "execution_count": 41,
   "metadata": {},
   "outputs": [
    {
     "data": {
      "text/plain": [
       "[('churn', 'float'),\n",
       " ('gender', 'float'),\n",
       " ('level', 'float'),\n",
       " ('thumbsUps', 'float'),\n",
       " ('thumbsDowns', 'float'),\n",
       " ('friends', 'float'),\n",
       " ('playlist', 'float'),\n",
       " ('downgrade', 'float')]"
      ]
     },
     "execution_count": 41,
     "metadata": {},
     "output_type": "execute_result"
    }
   ],
   "source": [
    "for c in features.columns[:]:\n",
    "    features = features.withColumn(c, features[c].cast('float'))\n",
    "features.dtypes"
   ]
  },
  {
   "cell_type": "code",
   "execution_count": 42,
   "metadata": {
    "scrolled": true
   },
   "outputs": [
    {
     "data": {
      "text/plain": [
       "['gender',\n",
       " 'level',\n",
       " 'thumbsUps',\n",
       " 'thumbsDowns',\n",
       " 'friends',\n",
       " 'playlist',\n",
       " 'downgrade']"
      ]
     },
     "execution_count": 42,
     "metadata": {},
     "output_type": "execute_result"
    }
   ],
   "source": [
    "Cols = features.columns[1:]\n",
    "Cols"
   ]
  },
  {
   "cell_type": "code",
   "execution_count": 43,
   "metadata": {},
   "outputs": [],
   "source": [
    "from pyspark.ml import Pipeline\n",
    "from pyspark.ml.classification import LogisticRegression,RandomForestClassifier,LinearSVC\n",
    "from pyspark.ml.feature import Normalizer, MinMaxScaler, VectorAssembler, StringIndexer\n",
    "from pyspark.ml.tuning import CrossValidator, ParamGridBuilder\n",
    "from pyspark.ml.evaluation import BinaryClassificationEvaluator,MulticlassClassificationEvaluator\n",
    "from sklearn.metrics import f1_score, recall_score, precision_score"
   ]
  },
  {
   "cell_type": "code",
   "execution_count": 44,
   "metadata": {},
   "outputs": [],
   "source": [
    "# standerscaler归一化向量\n",
    "assembler = VectorAssembler(inputCols=Cols, outputCol=\"NFeatures\")\n",
    "features_scaled = assembler.transform(features)\n",
    "scaler = MinMaxScaler(inputCol=\"NFeatures\", outputCol=\"features\")\n",
    "features_scaled = scaler.fit(features_scaled).transform(features_scaled)\n",
    "indexer = StringIndexer(inputCol = 'churn', outputCol = 'label')"
   ]
  },
  {
   "cell_type": "code",
   "execution_count": 45,
   "metadata": {},
   "outputs": [
    {
     "data": {
      "text/plain": [
       "[Row(churn=0.0, gender=1.0, level=0.0, thumbsUps=21.0, thumbsDowns=6.0, friends=4.0, playlist=8.0, downgrade=5.0, NFeatures=DenseVector([1.0, 0.0, 21.0, 6.0, 4.0, 8.0, 5.0]), features=DenseVector([1.0, 0.0, 0.037, 0.0676, 0.0211, 0.0211, 0.0556]))]"
      ]
     },
     "execution_count": 45,
     "metadata": {},
     "output_type": "execute_result"
    }
   ],
   "source": [
    "features_scaled.head(1)"
   ]
  },
  {
   "cell_type": "markdown",
   "metadata": {},
   "source": [
    "#### 把数据集分解为测试和训练集"
   ]
  },
  {
   "cell_type": "code",
   "execution_count": 46,
   "metadata": {},
   "outputs": [],
   "source": [
    "train, test = features.randomSplit([0.8, 0.2], seed = 42)"
   ]
  },
  {
   "cell_type": "code",
   "execution_count": 47,
   "metadata": {},
   "outputs": [
    {
     "name": "stdout",
     "output_type": "stream",
     "text": [
      "+-----+------+-----+---------+-----------+-------+--------+---------+\n",
      "|churn|gender|level|thumbsUps|thumbsDowns|friends|playlist|downgrade|\n",
      "+-----+------+-----+---------+-----------+-------+--------+---------+\n",
      "|  0.0|   1.0|  0.0|     21.0|        6.0|    4.0|     8.0|      5.0|\n",
      "+-----+------+-----+---------+-----------+-------+--------+---------+\n",
      "only showing top 1 row\n",
      "\n"
     ]
    }
   ],
   "source": [
    "train.show(1)"
   ]
  },
  {
   "cell_type": "markdown",
   "metadata": {},
   "source": [
    "### 调参前先预测一下"
   ]
  },
  {
   "cell_type": "markdown",
   "metadata": {},
   "source": [
    "#### 归一化后数据拆分"
   ]
  },
  {
   "cell_type": "code",
   "execution_count": 49,
   "metadata": {},
   "outputs": [],
   "source": [
    "train_scaled, test_scaled = features_scaled.randomSplit([0.8, 0.2], seed = 42)"
   ]
  },
  {
   "cell_type": "code",
   "execution_count": 53,
   "metadata": {},
   "outputs": [],
   "source": [
    "pre_evaluator = MulticlassClassificationEvaluator(labelCol=\"churn\")"
   ]
  },
  {
   "cell_type": "markdown",
   "metadata": {},
   "source": [
    "#### 逻辑回归"
   ]
  },
  {
   "cell_type": "code",
   "execution_count": 54,
   "metadata": {},
   "outputs": [
    {
     "name": "stdout",
     "output_type": "stream",
     "text": [
      "Logistic Regression Metrics:\n",
      "Accuracy: 0.5666666666666667\n",
      "F-1 Score:0.5589603283173735\n"
     ]
    }
   ],
   "source": [
    "pre_lr = LogisticRegression(labelCol=\"churn\", featuresCol=\"features\")\n",
    "pre_lr_model = pre_lr.fit(train_scaled)\n",
    "pre_lr_predict = pre_lr_model.transform(test_scaled)\n",
    "pre_lr_accuracy = pre_evaluator.evaluate(pre_lr_predict, {pre_evaluator.metricName: \"accuracy\"})\n",
    "pre_lr_f1score = pre_evaluator.evaluate(pre_lr_predict, {pre_evaluator.metricName: \"f1\"})\n",
    "print('Logistic Regression Metrics:')\n",
    "print('Accuracy: {}'.format(pre_lr_accuracy))\n",
    "print('F-1 Score:{}'.format(pre_lr_f1score))"
   ]
  },
  {
   "cell_type": "markdown",
   "metadata": {},
   "source": [
    "#### SVM"
   ]
  },
  {
   "cell_type": "code",
   "execution_count": 56,
   "metadata": {},
   "outputs": [
    {
     "name": "stdout",
     "output_type": "stream",
     "text": [
      "Logistic Regression Metrics:\n",
      "Accuracy: 0.7\n",
      "F-1 Score:0.5764705882352941\n"
     ]
    }
   ],
   "source": [
    "pre_svm = LinearSVC(labelCol=\"churn\", featuresCol=\"features\")\n",
    "pre_svm_model = pre_svm.fit(train_scaled)\n",
    "pre_svm_predict = pre_svm_model.transform(test_scaled)\n",
    "pre_svm_accuracy = pre_evaluator.evaluate(pre_svm_predict, {pre_evaluator.metricName: \"accuracy\"})\n",
    "pre_svm_f1score = pre_evaluator.evaluate(pre_svm_predict, {pre_evaluator.metricName: \"f1\"})\n",
    "print('Linear SVM Metrics:')\n",
    "print('Accuracy: {}'.format(pre_svm_accuracy))\n",
    "print('F-1 Score:{}'.format(pre_svm_f1score))"
   ]
  },
  {
   "cell_type": "markdown",
   "metadata": {},
   "source": [
    "#### 随机森林"
   ]
  },
  {
   "cell_type": "code",
   "execution_count": 57,
   "metadata": {},
   "outputs": [
    {
     "name": "stdout",
     "output_type": "stream",
     "text": [
      "Logistic Regression Metrics:\n",
      "Accuracy: 0.6666666666666666\n",
      "F-1 Score:0.6041666666666667\n"
     ]
    }
   ],
   "source": [
    "pre_rf = RandomForestClassifier(labelCol=\"churn\", featuresCol=\"features\")\n",
    "pre_rf_model = pre_rf.fit(train_scaled)\n",
    "pre_rf_predict = pre_rf_model.transform(test_scaled)\n",
    "pre_rf_accuracy = pre_evaluator.evaluate(pre_rf_predict, {pre_evaluator.metricName: \"accuracy\"})\n",
    "pre_rf_f1score = pre_evaluator.evaluate(pre_rf_predict, {pre_evaluator.metricName: \"f1\"})\n",
    "print('Random Forest Metrics:')\n",
    "print('Accuracy: {}'.format(pre_rf_accuracy))\n",
    "print('F-1 Score:{}'.format(pre_rf_f1score))"
   ]
  },
  {
   "cell_type": "markdown",
   "metadata": {},
   "source": [
    "#### 特征重要性排序，可见点踩ThumbsDowns最重要"
   ]
  },
  {
   "cell_type": "code",
   "execution_count": 58,
   "metadata": {},
   "outputs": [
    {
     "data": {
      "text/plain": [
       "SparseVector(7, {0: 0.0166, 1: 0.0358, 2: 0.246, 3: 0.2327, 4: 0.1905, 5: 0.1691, 6: 0.1091})"
      ]
     },
     "execution_count": 58,
     "metadata": {},
     "output_type": "execute_result"
    }
   ],
   "source": [
    "pre_rf_model.featureImportances"
   ]
  },
  {
   "cell_type": "markdown",
   "metadata": {},
   "source": [
    "## 网格调参加管道"
   ]
  },
  {
   "cell_type": "code",
   "execution_count": 90,
   "metadata": {},
   "outputs": [],
   "source": [
    "# 定义classifiers:逻辑回归，线性SVM，随机森林\n",
    "lr_classifier = LogisticRegression(maxIter=5)\n",
    "svm_classifier = LinearSVC(maxIter=5)\n",
    "rf_classifier = RandomForestClassifier()"
   ]
  },
  {
   "cell_type": "code",
   "execution_count": 91,
   "metadata": {},
   "outputs": [],
   "source": [
    "# 定义 pipelines\n",
    "lr_pipeline = Pipeline(stages=[assembler, scaler, indexer, lr_classifier]);\n",
    "svm_pipeline = Pipeline(stages=[assembler, scaler,indexer, svm_classifier]);\n",
    "rf_pipeline = Pipeline(stages=[assembler, scaler,indexer, rf_classifier]);"
   ]
  },
  {
   "cell_type": "code",
   "execution_count": 92,
   "metadata": {},
   "outputs": [],
   "source": [
    "# 定义 param grids，\n",
    "lr_paramGrid = ParamGridBuilder() \\\n",
    "   .addGrid(lr_classifier.regParam, [0.0, 0.1, 0.01]) \\\n",
    "   .build()\n",
    "\n",
    "svm_paramGrid = ParamGridBuilder() \\\n",
    "   .addGrid(svm_classifier.maxIter, [5, 10, 20]) \\\n",
    "   .build()\n",
    "\n",
    "rf_paramGrid = ParamGridBuilder() \\\n",
    "   .addGrid(rf_classifier.numTrees,[10, 25, 50, 100]) \\\n",
    "   .build()"
   ]
  },
  {
   "cell_type": "markdown",
   "metadata": {},
   "source": [
    "#### 轮换用三种算法来训练，评价指标为Accuracy和F-1 Score"
   ]
  },
  {
   "cell_type": "code",
   "execution_count": 94,
   "metadata": {},
   "outputs": [
    {
     "name": "stdout",
     "output_type": "stream",
     "text": [
      "Logistic Regression Metrics:\n",
      "Accuracy: 0.6333333333333333\n",
      "F-1 Score:0.6088888888888889\n",
      "\n",
      "Support Vector Machine Metrics:\n",
      "Accuracy: 0.7\n",
      "F-1 Score:0.5764705882352941\n",
      "\n",
      "Random Forest Metrics:\n",
      "Accuracy: 0.6333333333333333\n",
      "F-1 Score:0.5823240589198037\n",
      "\n"
     ]
    }
   ],
   "source": [
    "for module_name, estimator, estimatorParamMap in all_module_cores:\n",
    "\n",
    "        crossval = CrossValidator(estimator=estimator,\n",
    "                          estimatorParamMaps=estimatorParamMap,\n",
    "                          evaluator=MulticlassClassificationEvaluator(),\n",
    "                          numFolds=2)\n",
    "        model = crossval.fit(train)\n",
    "        predict = model.transform(test)\n",
    "        evaluator = MulticlassClassificationEvaluator()\n",
    "        accuracy = evaluator.evaluate(predict, {evaluator.metricName: \"accuracy\"})\n",
    "        f1score = evaluator.evaluate(predict, {evaluator.metricName: \"f1\"})\n",
    "        \n",
    "        print(module_name, 'Metrics:')\n",
    "        print('Accuracy: {}'.format(accuracy))\n",
    "        print('F-1 Score:{}\\n'.format(f1score))"
   ]
  },
  {
   "cell_type": "markdown",
   "metadata": {},
   "source": [
    "\n",
    "# 最后一步\n",
    "清理你的代码，添加注释和重命名变量，使得代码更易读和易于维护。参考 Spark 项目概述页面和数据科学家毕业项目审阅要求，确保你的项目包含了毕业项目要求的所有内容，并且满足所有审阅要求。记得在 GitHub 代码库里包含一份全面的文档——README文件，以及一个网络应用程序或博客文章。"
   ]
  },
  {
   "cell_type": "code",
   "execution_count": null,
   "metadata": {},
   "outputs": [],
   "source": []
  }
 ],
 "metadata": {
  "kernelspec": {
   "display_name": "Python 3",
   "language": "python",
   "name": "python3"
  },
  "language_info": {
   "codemirror_mode": {
    "name": "ipython",
    "version": 3
   },
   "file_extension": ".py",
   "mimetype": "text/x-python",
   "name": "python",
   "nbconvert_exporter": "python",
   "pygments_lexer": "ipython3",
   "version": "3.7.6"
  }
 },
 "nbformat": 4,
 "nbformat_minor": 2
}
